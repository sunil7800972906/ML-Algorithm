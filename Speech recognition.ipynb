{
 "cells": [
  {
   "cell_type": "code",
   "execution_count": 1,
   "metadata": {},
   "outputs": [
    {
     "name": "stdout",
     "output_type": "stream",
     "text": [
      "Requirement already satisfied: SpeechRecognition in g:\\anaconda\\lib\\site-packages (3.8.1)\n"
     ]
    }
   ],
   "source": [
    "!pip install SpeechRecognition"
   ]
  },
  {
   "cell_type": "code",
   "execution_count": 7,
   "metadata": {},
   "outputs": [
    {
     "name": "stdout",
     "output_type": "stream",
     "text": [
      "Converting audio transcripts into text......\n",
      "how are you for all the students will get 30 days free access for the content library which is called code rate cybersecurity content and tab content for 30 days access and also and also because it is a newly launched also they will get a break the code access to for further exams to become a Ch master this is a very unique sorry Ottoman being the promotion it will be helpful for PWC also to use this in the region all the students were purchased the right now it will be very useful for pida PWC to cotton market\n"
     ]
    }
   ],
   "source": [
    "import speech_recognition as sr\n",
    "r = sr.Recognizer()\n",
    "\n",
    "\n",
    "\n",
    "with sr.AudioFile('E:\\Machine learning\\Tenserflow\\speek.wav') as source:\n",
    "    audio_text = r.listen(source)\n",
    "    \n",
    "    try:\n",
    "        \n",
    "        text = r.recognize_google(audio_text)\n",
    "        print('Converting audio transcripts into text......')\n",
    "        print(text)\n",
    "        \n",
    "    except:\n",
    "        print('Sorry.. run again....')"
   ]
  },
  {
   "cell_type": "code",
   "execution_count": null,
   "metadata": {},
   "outputs": [],
   "source": []
  }
 ],
 "metadata": {
  "kernelspec": {
   "display_name": "Python 3",
   "language": "python",
   "name": "python3"
  },
  "language_info": {
   "codemirror_mode": {
    "name": "ipython",
    "version": 3
   },
   "file_extension": ".py",
   "mimetype": "text/x-python",
   "name": "python",
   "nbconvert_exporter": "python",
   "pygments_lexer": "ipython3",
   "version": "3.7.7"
  }
 },
 "nbformat": 4,
 "nbformat_minor": 4
}
